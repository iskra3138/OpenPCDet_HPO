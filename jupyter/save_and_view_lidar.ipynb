{
 "cells": [
  {
   "cell_type": "code",
   "execution_count": 1,
   "id": "563e35df",
   "metadata": {},
   "outputs": [
    {
     "name": "stdout",
     "output_type": "stream",
     "text": [
      "Jupyter environment detected. Enabling Open3D WebVisualizer.\n",
      "[Open3D INFO] WebRTC GUI backend enabled.\n",
      "[Open3D INFO] WebRTCWindowSystem: HTTP handshake server disabled.\n",
      "[Open3D INFO] Resetting default logger to print to terminal.\n"
     ]
    }
   ],
   "source": [
    "import laspy\n",
    "import matplotlib.pyplot as plt\n",
    "import numpy as np\n",
    "import open3d\n",
    "from PIL import Image, ImageFont, ImageDraw\n",
    "import os\n",
    "from pathlib import Path\n",
    "\n",
    "from open3d.web_visualizer import draw"
   ]
  },
  {
   "cell_type": "code",
   "execution_count": 2,
   "id": "3f0b6060",
   "metadata": {},
   "outputs": [],
   "source": [
    "# root path for dataset(lidar files and label files)\n",
    "LIDAR_ROOT = '/nas2/YJ/git/tree_data_raw/pcdet/data/tree/training/velodyne/'\n",
    "LABEL_ROOT = '/nas2/YJ/git/tree_data_raw/pcdet/data/tree/training/labels/'\n",
    "\n",
    "# txt file of indices that you want to check\n",
    "INDICES_FILE = '/nas2/YJ/git/tree_data_raw/pcdet/data/tree/ImageSets/train.txt'\n",
    "\n",
    "# path for saving result file\n",
    "SAVE_PATH = '/nas2/YJ/tree_lidar/train/'"
   ]
  },
  {
   "cell_type": "code",
   "execution_count": 3,
   "id": "6805c8df",
   "metadata": {},
   "outputs": [],
   "source": [
    "SAVE_PATH = Path(SAVE_PATH)\n",
    "SAVE_PATH.mkdir(parents=True, exist_ok=True)"
   ]
  },
  {
   "cell_type": "code",
   "execution_count": 4,
   "id": "18c22b29",
   "metadata": {},
   "outputs": [],
   "source": [
    "assert os.path.exists(LIDAR_ROOT)\n",
    "assert os.path.exists(LABEL_ROOT)\n",
    "assert os.path.exists(INDICES_FILE)"
   ]
  },
  {
   "cell_type": "markdown",
   "id": "2f22c7fc",
   "metadata": {},
   "source": [
    "# Main"
   ]
  },
  {
   "cell_type": "code",
   "execution_count": 5,
   "id": "a644bc21",
   "metadata": {},
   "outputs": [],
   "source": [
    "def get_points_and_objects(index) :\n",
    "    las_path = os.path.join(LIDAR_ROOT, 'T{}.las'.format(index))\n",
    "\n",
    "    lasfile = laspy.file.File(str(las_path), mode=\"r\")\n",
    "    las_points = np.vstack((lasfile.x -30.0 , lasfile.y -30.0\n",
    "                                     , lasfile.z-300.0)).transpose().astype(np.float32)\n",
    "    \n",
    "    label_file = os.path.join(LABEL_ROOT, '{}.txt'.format(index))\n",
    "\n",
    "    objects = []\n",
    "    with open(label_file, 'r') as f:\n",
    "        lines = f.readlines()\n",
    "        for line in lines:\n",
    "            label = line.strip().split(' ')\n",
    "            h = float(label[8])\n",
    "            l = float(label[9])\n",
    "            w = float(label[10])\n",
    "            loc = np.array((float(label[11]), float(label[12]), float(label[13])), dtype=np.float32)\n",
    "            gt = [loc[0]-30.0, loc[1]-30.0, loc[2]-300.0, l, w, h, 0]\n",
    "            objects.append(gt)    \n",
    "            \n",
    "    return las_points, objects"
   ]
  },
  {
   "cell_type": "code",
   "execution_count": 6,
   "id": "3a291860",
   "metadata": {},
   "outputs": [],
   "source": [
    "with open(INDICES_FILE) as f :\n",
    "    indices = f.readlines()\n",
    "    \n",
    "for index in indices :\n",
    "    index = int(index)\n",
    "    las_points, objects = get_points_and_objects(index)\n",
    "    \n",
    "    ## Visualize\n",
    "    vis = open3d.visualization.Visualizer()\n",
    "    vis.create_window()\n",
    "    \n",
    "    vis.get_render_option().point_size = 1.0\n",
    "    vis.get_render_option().background_color = np.zeros(3)\n",
    "\n",
    "    axis_pcd = open3d.geometry.TriangleMesh.create_coordinate_frame(size=10.0, origin=[0, 0, 0])\n",
    "    vis.add_geometry(axis_pcd)\n",
    "\n",
    "    pts = open3d.geometry.PointCloud()\n",
    "    pts.points = open3d.utility.Vector3dVector(las_points)\n",
    "\n",
    "    vis.add_geometry(pts)\n",
    "    pts.colors = open3d.utility.Vector3dVector(np.ones((las_points.shape[0], 3)))\n",
    "\n",
    "    #### Adding GT boxes ####\n",
    "    for gt_boxes in objects :\n",
    "        center = gt_boxes[0:3]\n",
    "        lwh = gt_boxes[3:6]\n",
    "        axis_angles = np.array([0, 0, 1e-100])\n",
    "        rot = open3d.geometry.get_rotation_matrix_from_axis_angle(axis_angles)\n",
    "        box3d = open3d.geometry.OrientedBoundingBox(center, rot, lwh)\n",
    "\n",
    "        line_set = open3d.geometry.LineSet.create_from_oriented_bounding_box(box3d)\n",
    "\n",
    "        lines = np.asarray(line_set.lines)\n",
    "        lines = np.concatenate([lines, np.array([[1, 4], [7, 6]])], axis=0)\n",
    "\n",
    "        line_set.lines = open3d.utility.Vector2iVector(lines)\n",
    "        line_set.paint_uniform_color((0,1,0))\n",
    "        vis.add_geometry(line_set)  \n",
    "\n",
    "    ### Adding File name (Sometimes it doesn't work well in my desktop, so I leave the belows as comments)\n",
    "    #FONT = '/usr/share/fonts/truetype/dejavu/DejaVuSansMono-Bold.ttf'\n",
    "    #img = Image.new('RGB', (1920, 1080), color = (0,0,0))\n",
    "    #fnt = ImageFont.truetype(FONT, 64)\n",
    "    #d = ImageDraw.Draw(img)\n",
    "    #filename = 'T{}.las'.format(index)\n",
    "    #d.text((20,20), filename, font=fnt, fill=(255,255,255)) # puts text in upper left\n",
    "    #img.save('tmp.png')\n",
    "    #im = open3d.io.read_image(\"./tmp.png\")\n",
    "    #vis.add_geometry(im)\n",
    "    \n",
    "    vis.run()\n",
    "    # Save\n",
    "    vis.capture_screen_image(str(SAVE_PATH / '{}.png'.format(index)))\n",
    "\n",
    "vis.destroy_window()"
   ]
  },
  {
   "cell_type": "code",
   "execution_count": null,
   "id": "1c752583",
   "metadata": {},
   "outputs": [],
   "source": []
  },
  {
   "cell_type": "markdown",
   "id": "9cc89146",
   "metadata": {},
   "source": []
  }
 ],
 "metadata": {
  "kernelspec": {
   "display_name": "Python 3",
   "language": "python",
   "name": "python3"
  },
  "language_info": {
   "codemirror_mode": {
    "name": "ipython",
    "version": 3
   },
   "file_extension": ".py",
   "mimetype": "text/x-python",
   "name": "python",
   "nbconvert_exporter": "python",
   "pygments_lexer": "ipython3",
   "version": "3.6.13"
  }
 },
 "nbformat": 4,
 "nbformat_minor": 5
}
