{
 "cells": [
  {
   "cell_type": "code",
   "execution_count": 1,
   "id": "563e35df",
   "metadata": {},
   "outputs": [
    {
     "name": "stdout",
     "output_type": "stream",
     "text": [
      "Jupyter environment detected. Enabling Open3D WebVisualizer.\n",
      "[Open3D INFO] WebRTC GUI backend enabled.\n",
      "[Open3D INFO] WebRTCWindowSystem: HTTP handshake server disabled.\n",
      "[Open3D INFO] Resetting default logger to print to terminal.\n"
     ]
    }
   ],
   "source": [
    "import laspy\n",
    "import matplotlib.pyplot as plt\n",
    "import numpy as np\n",
    "import open3d\n",
    "import glob\n",
    "from PIL import Image, ImageFont, ImageDraw\n",
    "import os\n",
    "\n",
    "from open3d.web_visualizer import draw"
   ]
  },
  {
   "cell_type": "code",
   "execution_count": 2,
   "id": "adf4be0e",
   "metadata": {},
   "outputs": [],
   "source": [
    "# Set your own paths\n",
    "GT_PATH = '/nas2/YJ/git/OpenPCDet/data/tree/gt_database/'\n",
    "FONT = '/usr/share/fonts/truetype/dejavu/DejaVuSansMono-Bold.ttf'"
   ]
  },
  {
   "cell_type": "code",
   "execution_count": 3,
   "id": "9e3c0b50",
   "metadata": {},
   "outputs": [],
   "source": [
    "## If you want to see GT boxes of specificl lidar file, do it like the below\n",
    "gt_points = glob.glob(os.path.join(GT_PATH, '497*.bin'))\n",
    "\n",
    "## If you want to see all boxes, use the below\n",
    "#gt_points = glob.glob(os.path.join(GT_PATH, '*.bin'))"
   ]
  },
  {
   "cell_type": "code",
   "execution_count": null,
   "id": "d91b9ff7",
   "metadata": {},
   "outputs": [],
   "source": [
    "# Visualize\n",
    "for gt_point in gt_points :\n",
    "\n",
    "    las_points = np.fromfile(gt_point, dtype=np.float32).reshape(-1, 3)\n",
    "\n",
    "    vis = open3d.visualization.Visualizer()\n",
    "    vis.create_window()\n",
    "\n",
    "    vis.get_render_option().point_size = 1.0\n",
    "    vis.get_render_option().background_color = np.zeros(3)\n",
    "\n",
    "    axis_pcd = open3d.geometry.TriangleMesh.create_coordinate_frame(size=1.0, origin=[0, 0, 0])\n",
    "    vis.add_geometry(axis_pcd)\n",
    "\n",
    "    pts = open3d.geometry.PointCloud()\n",
    "    pts.points = open3d.utility.Vector3dVector(las_points)\n",
    "\n",
    "    pts.colors = open3d.utility.Vector3dVector(np.ones((las_points.shape[0], 3)))\n",
    "    vis.add_geometry(pts)\n",
    "    \n",
    "    img = Image.new('RGB', (1920, 1080), color = (0,0,0))\n",
    "    fnt = ImageFont.truetype(FONT, 64)\n",
    "    d = ImageDraw.Draw(img)\n",
    "    d.text((0,0), os.path.split(gt_point)[1], font=fnt, fill=(255,255,255)) # puts text in upper right\n",
    "    img.save('tmp.png')\n",
    "\n",
    "    im = open3d.io.read_image(\"./tmp.png\")\n",
    "    vis.add_geometry(im)\n",
    "\n",
    "    vis.run()\n",
    "\n",
    "vis.destroy_window()"
   ]
  },
  {
   "cell_type": "code",
   "execution_count": null,
   "id": "8e0a6c7d",
   "metadata": {},
   "outputs": [],
   "source": []
  }
 ],
 "metadata": {
  "kernelspec": {
   "display_name": "Python 3",
   "language": "python",
   "name": "python3"
  },
  "language_info": {
   "codemirror_mode": {
    "name": "ipython",
    "version": 3
   },
   "file_extension": ".py",
   "mimetype": "text/x-python",
   "name": "python",
   "nbconvert_exporter": "python",
   "pygments_lexer": "ipython3",
   "version": "3.6.13"
  }
 },
 "nbformat": 4,
 "nbformat_minor": 5
}
